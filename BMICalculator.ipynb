{
 "cells": [
  {
   "cell_type": "code",
   "execution_count": 2,
   "id": "442bdbc9-369b-4fb8-868c-f04ede7f0b41",
   "metadata": {},
   "outputs": [],
   "source": [
    "#BMI Calculator"
   ]
  },
  {
   "cell_type": "code",
   "execution_count": 4,
   "id": "6897d5f8-3536-4e51-b48b-aa343efa4d48",
   "metadata": {},
   "outputs": [],
   "source": [
    "#BMI = weight in kg/height in squared meter\n",
    "#input is used to take input value and int is done because it is storing value in the form of string and we want integer so it is converted into integer form"
   ]
  },
  {
   "cell_type": "code",
   "execution_count": 30,
   "id": "e1c7487f-c71e-4110-ab78-57942d3fe332",
   "metadata": {},
   "outputs": [
    {
     "name": "stdin",
     "output_type": "stream",
     "text": [
      "Enter your name:  Riya\n",
      "Enter your weight in kilograms :  63\n",
      "Enter your height in metres :  1.51\n"
     ]
    },
    {
     "name": "stdout",
     "output_type": "stream",
     "text": [
      "27.630367089162757\n",
      "Riya,You are overweight.\n"
     ]
    }
   ],
   "source": [
    "name = input('Enter your name: ')\n",
    "\n",
    "weight = int(input('Enter your weight in kilograms : '))\n",
    "\n",
    "height = float(input('Enter your height in metres : '))\n",
    "\n",
    "BMI = (weight) /(height * height)\n",
    "print(BMI)\n",
    "\n",
    "if BMI>0:\n",
    "    if(BMI<18.5):\n",
    "        print(name + ',You are underweight.')\n",
    "    elif(BMI<=24.9):\n",
    "        print(name + ',You are normal weight.')\n",
    "    elif(BMI<29.9):\n",
    "        print(name + ',You are overweight.')\n",
    "    elif(BMI<34.9):\n",
    "        print(name + ',You are obese.')\n",
    "    elif(BMI<39.9):\n",
    "        print(name + ',You are severly obese.')   \n",
    "    else:\n",
    "        print(name + ',You are moderatley obese')"
   ]
  }
 ],
 "metadata": {
  "kernelspec": {
   "display_name": "Python [conda env:base] *",
   "language": "python",
   "name": "conda-base-py"
  },
  "language_info": {
   "codemirror_mode": {
    "name": "ipython",
    "version": 3
   },
   "file_extension": ".py",
   "mimetype": "text/x-python",
   "name": "python",
   "nbconvert_exporter": "python",
   "pygments_lexer": "ipython3",
   "version": "3.12.7"
  }
 },
 "nbformat": 4,
 "nbformat_minor": 5
}
